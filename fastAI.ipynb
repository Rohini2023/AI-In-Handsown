{
  "nbformat": 4,
  "nbformat_minor": 0,
  "metadata": {
    "colab": {
      "private_outputs": true,
      "provenance": [],
      "gpuType": "T4"
    },
    "kernelspec": {
      "name": "python3",
      "display_name": "Python 3"
    },
    "language_info": {
      "name": "python"
    },
    "accelerator": "GPU"
  },
  "cells": [
    {
      "cell_type": "code",
      "execution_count": null,
      "metadata": {
        "id": "SCcKYBfS7H6e"
      },
      "outputs": [],
      "source": [
        "!pip install fastai"
      ]
    },
    {
      "cell_type": "code",
      "source": [
        "from fastai.vision.all import *"
      ],
      "metadata": {
        "id": "SVdzS_iK7KJA"
      },
      "execution_count": null,
      "outputs": []
    },
    {
      "cell_type": "code",
      "source": [
        "path = untar_data(URLs.PETS) / 'images'\n",
        "print(path.ls())"
      ],
      "metadata": {
        "id": "zfvVj6ds7W4C"
      },
      "execution_count": null,
      "outputs": []
    },
    {
      "cell_type": "code",
      "source": [
        "dls = ImageDataLoaders.from_name_re(\n",
        "    path,\n",
        "    get_image_files(path),\n",
        "    pat=r'(.+)_\\d+\\.jpg$',  # Regex to extract label from filename\n",
        "    item_tfms=Resize(224),  # Resize images to 224x224\n",
        "    batch_size=32\n",
        ")\n",
        "dls.show_batch(max_n=9)"
      ],
      "metadata": {
        "id": "r_6xDZ7W710Q"
      },
      "execution_count": null,
      "outputs": []
    },
    {
      "cell_type": "code",
      "source": [
        "learn = vision_learner(dls, resnet18, metrics=accuracy)\n",
        "learn.fine_tune(5)  # Fine-tune for 5 epochs"
      ],
      "metadata": {
        "id": "b0vJNgad7-ss"
      },
      "execution_count": null,
      "outputs": []
    },
    {
      "cell_type": "code",
      "source": [
        "learn.show_results()\n",
        "interp = ClassificationInterpretation.from_learner(learn)\n",
        "interp.plot_confusion_matrix()"
      ],
      "metadata": {
        "id": "NwN9Wleg8Cmk"
      },
      "execution_count": null,
      "outputs": []
    },
    {
      "cell_type": "code",
      "source": [
        "import urllib.request\n",
        "import cv2\n",
        "\n",
        "def get_image(url):\n",
        "\n",
        "  # Open the URL and read the image data\n",
        "  with urllib.request.urlopen(url) as response:\n",
        "      image_data = response.read()\n",
        "\n",
        " # Decode the image data and convert it to a NumPy array\n",
        "  image_array = np.asarray(bytearray(image_data), dtype=np.uint8)\n",
        "\n",
        "  # Decode image for OpenCV (convert bytes to image format)\n",
        "  image = cv2.imdecode(image_array, cv2.IMREAD_COLOR)\n",
        "  image = cv2.cvtColor(image, cv2.COLOR_BGR2RGB)\n",
        "\n",
        "  return image"
      ],
      "metadata": {
        "id": "NRZ9eLCLiVVa"
      },
      "execution_count": null,
      "outputs": []
    },
    {
      "cell_type": "code",
      "source": [
        "url=input(\"Enter image url : \")\n",
        "img=get_image(url)\n",
        "pred, pred_idx, probs = learn.predict(img)\n",
        "print(f\"Prediction: {pred}, Probability: {probs[pred_idx]:.4f}\")\n",
        "plt.axis(\"off\")\n",
        "plt.imshow(img)\n",
        "plt.show()"
      ],
      "metadata": {
        "id": "X5cHU4M19YZe"
      },
      "execution_count": null,
      "outputs": []
    },
    {
      "cell_type": "code",
      "source": [],
      "metadata": {
        "id": "QqUOahkTnzyz"
      },
      "execution_count": null,
      "outputs": []
    }
  ]
}